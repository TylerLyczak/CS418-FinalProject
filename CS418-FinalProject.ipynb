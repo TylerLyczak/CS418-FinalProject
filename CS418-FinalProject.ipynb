{
 "cells": [
  {
   "cell_type": "markdown",
   "metadata": {},
   "source": [
    "CS 418 Final Project\n",
    "---\n",
    "Using dataset scraped from Zillow\n",
    "Includes all houses for sale in Chicago"
   ]
  },
  {
   "cell_type": "markdown",
   "metadata": {},
   "source": [
    "data.csv is broken down into these columns..."
   ]
  },
  {
   "cell_type": "markdown",
   "metadata": {},
   "source": [
    "| Address | Zip Code | Value | SQFT | Price Per SQFT | Number of Bedrooms | Number of Bathrooms | Number of Full Bathrooms | Year Built | Heating | Cooling | Parking | Type | Has Garage | Number of Storeis | HOA FEE |\n",
    "|---------|----------|-------|------|----------------|--------------------|---------------------|--------------------------|------------|---------|---------|---------|------|------------|-------------------|---------|"
   ]
  },
  {
   "cell_type": "code",
   "execution_count": null,
   "metadata": {},
   "outputs": [],
   "source": []
  }
 ],
 "metadata": {
  "kernelspec": {
   "display_name": "Python 3",
   "language": "python",
   "name": "python3"
  },
  "language_info": {
   "codemirror_mode": {
    "name": "ipython",
    "version": 3
   },
   "file_extension": ".py",
   "mimetype": "text/x-python",
   "name": "python",
   "nbconvert_exporter": "python",
   "pygments_lexer": "ipython3",
   "version": "3.8.3"
  }
 },
 "nbformat": 4,
 "nbformat_minor": 4
}
